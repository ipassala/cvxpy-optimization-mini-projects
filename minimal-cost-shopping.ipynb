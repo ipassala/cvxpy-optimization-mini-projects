{
 "cells": [
  {
   "cell_type": "markdown",
   "metadata": {},
   "source": [
    "# Optimal shopping problem"
   ]
  },
  {
   "cell_type": "markdown",
   "metadata": {},
   "source": [
    "I need to get some goods to met a list of requirements.\n",
    "\n",
    "There are a ton of goods that can partially satisfy one or more of my requirements. I cannot get a fraction of a good.\n",
    "\n",
    "How many goods do I get? Which ones? I need to solve an integer optimization problem."
   ]
  },
  {
   "cell_type": "markdown",
   "metadata": {},
   "source": [
    "$$\n",
    "\\begin{array}{lll} \n",
    "    \\mbox{Minimize} & \\sum_{i=1}^{N} c_ix_i & \\to \\text{Minimize cost of goods}\\\\\n",
    "    \\mbox{Subject to} & \\sum_{i=1}^{N} x_i q_{ij} \\geqslant m_j \\quad \\forall j & \\to \\text{Fulfilling my requirements} \\\\\n",
    "    & x_i \\geqslant 0, x_i \\in \\mathbb{N} \\quad \\forall i \\\\\n",
    "\\end{array}\n",
    "$$"
   ]
  },
  {
   "cell_type": "markdown",
   "metadata": {},
   "source": [
    "Where:\n",
    "\n",
    "$\n",
    "\\begin{array}{ll} \n",
    "    \\mbox{$x_i$}    : & \\text{Quantity of good } i \\text{ to be obtained} \\\\\n",
    "    \\mbox{$c_i$}    : & \\text{Cost of good } i \\\\\n",
    "    \\mbox{$m_j$}    : & \\text{My total requirement of type} j \\\\\n",
    "    \\mbox{$q_{ij}$} : & \\text{Quantity of requirement } j \\text{ fulfilled by each good } i \\text{ obtained}    \n",
    "\\end{array}\n",
    "$"
   ]
  },
  {
   "cell_type": "markdown",
   "metadata": {
    "ExecuteTime": {
     "end_time": "2018-10-09T18:48:50.240257Z",
     "start_time": "2018-10-09T18:48:50.220256Z"
    }
   },
   "source": [
    "If the total cost is not of our interest we can simple let $c_i = 1, \\forall i$, and the problem will minimize the total quantity of goods needed to fullfil the requirements."
   ]
  },
  {
   "cell_type": "markdown",
   "metadata": {},
   "source": [
    "## Random parameters generation"
   ]
  },
  {
   "cell_type": "code",
   "execution_count": 24,
   "metadata": {
    "ExecuteTime": {
     "end_time": "2018-10-09T19:20:10.607706Z",
     "start_time": "2018-10-09T19:20:10.589924Z"
    },
    "scrolled": false
   },
   "outputs": [
    {
     "name": "stdout",
     "output_type": "stream",
     "text": [
      "Number of goods: \n",
      "i = 10 \n",
      "\n",
      "Number of requirements: \n",
      "j = 5 \n",
      "\n",
      "Cost of each good: \n",
      "C = [8 7 4 7 9 5 9 3 4 7] \n",
      "\n",
      "Quantity of each requirement: \n",
      "m = [75 94 86 43 68] \n",
      "\n",
      "Quantity of each requirement fulfilled by each good: \n",
      "Q =\n",
      "[0 0 2 1 2 1 2 1 0 2] \n",
      "[0 2 0 1 1 1 1 2 2 1] \n",
      "[1 1 2 1 1 2 0 1 1 0] \n",
      "[2 1 0 1 2 1 0 0 1 0] \n",
      "[2 0 2 2 2 1 1 1 1 2]\n"
     ]
    }
   ],
   "source": [
    "import cvxpy as cvx\n",
    "import numpy as np\n",
    "np.set_printoptions(precision=2)\n",
    "np.set_printoptions(suppress=True)\n",
    "\n",
    "i = 10   # Type of goods available\n",
    "j = 5    # Type of needs to be fulfilled\n",
    "\n",
    "# Random generation of C, Q and M\n",
    "C = np.random.randint(1,10,i)         # Cost of each good\n",
    "Q = np.random.choice([0,1,2], (j,i))  # Quantity of each need fulfillef for each good\n",
    "m = np.random.randint(1,100,(j))      # Requirements of each need\n",
    "\n",
    "print(\"Number of goods: \\ni =\", i, \"\\n\")\n",
    "print(\"Number of requirements: \\nj =\", j, \"\\n\")\n",
    "print(\"Cost of each good: \\nC =\", C, \"\\n\")\n",
    "print(\"Quantity of each requirement: \\nm =\", m, \"\\n\")\n",
    "print(\"Quantity of each requirement fulfilled by each good: \\nQ =\")\n",
    "print(*Q, sep=' \\n')"
   ]
  },
  {
   "cell_type": "markdown",
   "metadata": {},
   "source": [
    "## Problem construction and solution using CVXPY"
   ]
  },
  {
   "cell_type": "markdown",
   "metadata": {
    "ExecuteTime": {
     "end_time": "2018-10-09T18:58:15.187846Z",
     "start_time": "2018-10-09T18:58:15.178177Z"
    }
   },
   "source": [
    "We will use [CVXPY](https://www.cvxpy.org/) to construct and solve the optimization problem.\n",
    "\n",
    "To make it simple we use vector notation:"
   ]
  },
  {
   "cell_type": "markdown",
   "metadata": {},
   "source": [
    "$\n",
    "\\begin{array}{lll} \n",
    "    \\mbox{Minimize} & \\mathbf{Cx} \\\\\n",
    "    \\mbox{Subject to} & \\mathbf{Qx} \\geqslant \\mathbf{m} \\\\\n",
    "    \\mbox{} & \\mathbf{x} \\geqslant 0, \\mathbf{x} \\in \\mathbb{N}\n",
    "\\end{array}\n",
    "$"
   ]
  },
  {
   "cell_type": "code",
   "execution_count": 25,
   "metadata": {
    "ExecuteTime": {
     "end_time": "2018-10-09T19:20:11.659251Z",
     "start_time": "2018-10-09T19:20:11.649905Z"
    }
   },
   "outputs": [],
   "source": [
    "# Construct the problem\n",
    "x = cvx.Variable(i, integer=True)\n",
    "\n",
    "objective = cvx.Minimize(C*x)\n",
    "constraints = [Q*x >= m, x >= 0]\n",
    "\n",
    "prob = cvx.Problem(objective, constraints)"
   ]
  },
  {
   "cell_type": "code",
   "execution_count": 26,
   "metadata": {
    "ExecuteTime": {
     "end_time": "2018-10-09T19:20:11.857554Z",
     "start_time": "2018-10-09T19:20:11.835107Z"
    }
   },
   "outputs": [
    {
     "name": "stdout",
     "output_type": "stream",
     "text": [
      "SOLUTION FOUND! \n",
      "Objective function value = 300.0000001467965 optimal\n"
     ]
    }
   ],
   "source": [
    "# Solve the problem\n",
    "sol = prob.solve()\n",
    "\n",
    "if(prob.status == 'optimal'):\n",
    "    print(\"SOLUTION FOUND! \\nObjective function value =\", sol, prob.status)\n",
    "else:\n",
    "    print(\"ERROR: \", prob.status)"
   ]
  },
  {
   "cell_type": "markdown",
   "metadata": {},
   "source": [
    "## Optimal solution verification"
   ]
  },
  {
   "cell_type": "code",
   "execution_count": 28,
   "metadata": {
    "ExecuteTime": {
     "end_time": "2018-10-09T19:20:15.743288Z",
     "start_time": "2018-10-09T19:20:15.728622Z"
    }
   },
   "outputs": [
    {
     "name": "stdout",
     "output_type": "stream",
     "text": [
      "Optimal goods to get: \n",
      " x_optimal = [0] [0] [1] [0] [8] [25] [0] [29] [0] [0]\n"
     ]
    }
   ],
   "source": [
    "x_opt = x.value[np.newaxis].T\n",
    "print(\"Optimal goods to get: \\n x_optimal =\", *x_opt.astype(int))\n",
    "#print(\"Optimal goods to get: \\n x_optimal =\", *x_opt)"
   ]
  },
  {
   "cell_type": "markdown",
   "metadata": {},
   "source": [
    "The fulfilled requirements always must be greater or equal to the original requirements:"
   ]
  },
  {
   "cell_type": "code",
   "execution_count": 29,
   "metadata": {
    "ExecuteTime": {
     "end_time": "2018-10-09T19:20:16.694038Z",
     "start_time": "2018-10-09T19:20:16.683338Z"
    }
   },
   "outputs": [
    {
     "name": "stdout",
     "output_type": "stream",
     "text": [
      "Original requirements : \n",
      " m = [75 94 86 43 68] \n",
      "\n",
      "Fulfilled requirements: \n",
      " m_optimal = [75. 94. 91. 43. 75.]\n"
     ]
    }
   ],
   "source": [
    "print(\"Original requirements : \\n m =\", m, \"\\n\")\n",
    "print(\"Fulfilled requirements: \\n m_optimal =\", *Q.dot(x_opt).T)"
   ]
  },
  {
   "cell_type": "code",
   "execution_count": 30,
   "metadata": {
    "ExecuteTime": {
     "end_time": "2018-10-09T19:20:18.797255Z",
     "start_time": "2018-10-09T19:20:18.788283Z"
    }
   },
   "outputs": [
    {
     "name": "stdout",
     "output_type": "stream",
     "text": [
      "Total number of goods to get = 63\n",
      "Total cost = 300.0000001467964\n"
     ]
    }
   ],
   "source": [
    "print(\"Total number of goods to get =\", x_opt.astype(int).sum())\n",
    "print(\"Total cost =\", C.dot(x.value))"
   ]
  },
  {
   "cell_type": "markdown",
   "metadata": {
    "ExecuteTime": {
     "end_time": "2018-10-09T19:15:41.187738Z",
     "start_time": "2018-10-09T19:15:41.178073Z"
    }
   },
   "source": [
    "If C = [1 1 1 ...], the total number of goods to get must be equal to the total cost of goods."
   ]
  }
 ],
 "metadata": {
  "kernelspec": {
   "display_name": "Python 3",
   "language": "python",
   "name": "python3"
  },
  "language_info": {
   "codemirror_mode": {
    "name": "ipython",
    "version": 3
   },
   "file_extension": ".py",
   "mimetype": "text/x-python",
   "name": "python",
   "nbconvert_exporter": "python",
   "pygments_lexer": "ipython3",
   "version": "3.6.6"
  }
 },
 "nbformat": 4,
 "nbformat_minor": 2
}
