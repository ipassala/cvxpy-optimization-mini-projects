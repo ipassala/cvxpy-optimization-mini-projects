{
 "cells": [
  {
   "cell_type": "markdown",
   "metadata": {},
   "source": [
    "# Optimal shopping problem"
   ]
  },
  {
   "cell_type": "markdown",
   "metadata": {},
   "source": [
    "I need to get some goods to met a list of requirements.\n",
    "\n",
    "There are a ton of goods that can partially satisfy one or more of my requirements.\n",
    "\n",
    "How many goods do I get? I need to solve an optimization problem."
   ]
  },
  {
   "cell_type": "markdown",
   "metadata": {},
   "source": [
    "$$\n",
    "\\begin{array}{lll} \n",
    "    \\mbox{Minimize} & \\sum_{i=1}^{N} c_ix_i & \\to \\text{Minimize cost of goods}\\\\\n",
    "    \\mbox{Subject to} & \\sum_{i=1}^{N} x_i q_{ij} \\geqslant m_j \\quad \\forall j & \\to \\text{Fulfilling my \"needs\" or \"requirements\"} \\\\\n",
    "    & x_i \\geqslant 0 \\quad \\forall i \n",
    "\\end{array}\n",
    "$$"
   ]
  },
  {
   "cell_type": "markdown",
   "metadata": {},
   "source": [
    "Where:\n",
    "\n",
    "$\n",
    "\\begin{array}{ll} \n",
    "    \\mbox{$x_i$}    : & \\text{Quantity of good $i$ to be obtained} \\\\\n",
    "    \\mbox{$c_i$}    : & \\text{Cost of good $i$} \\\\\n",
    "    \\mbox{$q_{ij}$} : & \\text{Quantity of need $j$ fulfilled for each good $i$ obtained} \\\\\n",
    "    \\mbox{$m_j$}    : & \\text{My total requirement of need $j$ satisfied to fulfill my desires} \\\\\n",
    "\\end{array}\n",
    "$"
   ]
  },
  {
   "cell_type": "markdown",
   "metadata": {},
   "source": [
    "If the total cost is not of our interest we can simple let $c_i = 1, \\forall i$, and the problem will minimize the total quantity of goods needed to fullfil the requirements."
   ]
  },
  {
   "cell_type": "code",
   "execution_count": 30,
   "metadata": {
    "ExecuteTime": {
     "end_time": "2018-10-09T18:25:44.038145Z",
     "start_time": "2018-10-09T18:25:44.018793Z"
    },
    "scrolled": true
   },
   "outputs": [
    {
     "name": "stdout",
     "output_type": "stream",
     "text": [
      "Number of goods: i = 10 \n",
      "\n",
      "Number of needs: j = 5 \n",
      "\n",
      "Cost of each good: \n",
      " C = [9 2 1 9 1 7 5 6 2 1] \n",
      "\n",
      "Requirements of each need: \n",
      " m = [94 99 89 85  5] \n",
      "\n",
      "Quantity of each requeriment fulfilled for each good: \n",
      " Q =\n",
      "[2 0 1 2 2 1 0 2 1 0] \n",
      "[1 2 2 1 0 0 1 2 2 0] \n",
      "[0 1 0 2 2 0 2 1 1 2] \n",
      "[0 1 1 0 0 0 0 1 1 2] \n",
      "[0 0 1 2 0 2 1 1 1 0]\n"
     ]
    }
   ],
   "source": [
    "import cvxpy as cvx\n",
    "import numpy as np\n",
    "np.set_printoptions(precision=2)\n",
    "np.set_printoptions(suppress=True)\n",
    "\n",
    "i = 10   # Type of goods available\n",
    "j = 5    # Type of needs to be fulfilled\n",
    "\n",
    "# Random generation of C, Q and M\n",
    "C = np.random.randint(1,10,i)         # Cost of each good\n",
    "Q = np.random.choice([0,1,2], (j,i))  # Quantity of each need fulfillef for each good\n",
    "m = np.random.randint(1,100,(j))      # Requirements of each need\n",
    "\n",
    "print(\"Number of goods: i =\", i, \"\\n\")\n",
    "print(\"Number of needs: j =\", j, \"\\n\")\n",
    "print(\"Cost of each good: \\n C =\", C, \"\\n\")\n",
    "print(\"Requirements of each need: \\n m =\", m, \"\\n\")\n",
    "print(\"Quantity of each requeriment fulfilled for each good: \\n Q =\")\n",
    "print(*Q, sep=' \\n')"
   ]
  },
  {
   "cell_type": "markdown",
   "metadata": {},
   "source": [
    "We will use [CVXPY](https://www.cvxpy.org/) to construct and solve the optimization problem.\n",
    "\n",
    "We use vector notation:"
   ]
  },
  {
   "cell_type": "markdown",
   "metadata": {},
   "source": [
    "$\n",
    "\\begin{array}{lll} \n",
    "    \\mbox{Minimize} & \\mathbf{Cx} \\\\\n",
    "    \\mbox{Subject to} & \\mathbf{Qx} \\geqslant \\mathbf{m} \\\\\n",
    "    \\mbox{} & \\mathbf{x} \\geqslant 0\n",
    "\\end{array}\n",
    "$"
   ]
  },
  {
   "cell_type": "code",
   "execution_count": 31,
   "metadata": {
    "ExecuteTime": {
     "end_time": "2018-10-09T18:25:53.618619Z",
     "start_time": "2018-10-09T18:25:53.596336Z"
    }
   },
   "outputs": [],
   "source": [
    "# Construct the problem\n",
    "x = cvx.Variable(i, integer=True)\n",
    "\n",
    "objective = cvx.Minimize(C*x)\n",
    "constraints = [Q*x >= M, x >= 0]\n",
    "\n",
    "prob = cvx.Problem(objective, constraints)"
   ]
  },
  {
   "cell_type": "code",
   "execution_count": 32,
   "metadata": {
    "ExecuteTime": {
     "end_time": "2018-10-09T18:25:54.426098Z",
     "start_time": "2018-10-09T18:25:54.345564Z"
    }
   },
   "outputs": [
    {
     "name": "stdout",
     "output_type": "stream",
     "text": [
      "Solución encontrada! \n",
      "Costo total = 61.99999997577728 optimal\n"
     ]
    }
   ],
   "source": [
    "# Solve the problem\n",
    "sol = prob.solve()\n",
    "\n",
    "if(prob.status == 'optimal'):\n",
    "    print(\"Solución encontrada! \\nCosto total =\", sol, prob.status)\n",
    "else:\n",
    "    print(\"ERROR: \", prob.status)"
   ]
  },
  {
   "cell_type": "markdown",
   "metadata": {},
   "source": [
    "### Verificación de solucíon"
   ]
  },
  {
   "cell_type": "code",
   "execution_count": 18,
   "metadata": {
    "ExecuteTime": {
     "end_time": "2018-10-09T17:21:41.727820Z",
     "start_time": "2018-10-09T17:21:41.720581Z"
    }
   },
   "outputs": [
    {
     "name": "stdout",
     "output_type": "stream",
     "text": [
      "Cantidad de sacos de cada fertilizante: \n",
      " x_optimo = \n",
      " [[ 0]\n",
      " [ 0]\n",
      " [16]\n",
      " [39]\n",
      " [ 0]\n",
      " [ 0]\n",
      " [ 0]\n",
      " [ 0]\n",
      " [ 0]\n",
      " [ 0]]\n"
     ]
    }
   ],
   "source": [
    "x_opt = x.value[np.newaxis].T\n",
    "print(\"Cantidad de sacos de cada fertilizante: \\n x_optimo = \\n\", x_opt.astype(int))"
   ]
  },
  {
   "cell_type": "code",
   "execution_count": 229,
   "metadata": {
    "ExecuteTime": {
     "end_time": "2018-10-06T20:13:16.656639Z",
     "start_time": "2018-10-06T20:13:16.639703Z"
    }
   },
   "outputs": [
    {
     "name": "stdout",
     "output_type": "stream",
     "text": [
      "Cantidad objetivo de cada químico : \n",
      " M = [43 68 65 70 40] \n",
      "\n",
      "Cantidad de químico aplicado: \n",
      " M_optimo = [[45. 78. 65. 70. 41.]]\n"
     ]
    }
   ],
   "source": [
    "print(\"Cantidad objetivo de cada químico : \\n M =\", M, \"\\n\")\n",
    "print(\"Cantidad de químico aplicado: \\n M_optimo =\", Q.dot(x_opt).T)"
   ]
  },
  {
   "cell_type": "code",
   "execution_count": 230,
   "metadata": {
    "ExecuteTime": {
     "end_time": "2018-10-06T20:13:17.293846Z",
     "start_time": "2018-10-06T20:13:17.284034Z"
    }
   },
   "outputs": [
    {
     "name": "stdout",
     "output_type": "stream",
     "text": [
      "Costo total =  223.99999998528904\n"
     ]
    }
   ],
   "source": [
    "print(\"Costo total = \", C.dot(x.value))"
   ]
  }
 ],
 "metadata": {
  "kernelspec": {
   "display_name": "Python 3",
   "language": "python",
   "name": "python3"
  },
  "language_info": {
   "codemirror_mode": {
    "name": "ipython",
    "version": 3
   },
   "file_extension": ".py",
   "mimetype": "text/x-python",
   "name": "python",
   "nbconvert_exporter": "python",
   "pygments_lexer": "ipython3",
   "version": "3.6.6"
  }
 },
 "nbformat": 4,
 "nbformat_minor": 2
}
